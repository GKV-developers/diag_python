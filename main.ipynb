{
 "cells": [
  {
   "cell_type": "code",
   "execution_count": null,
   "metadata": {},
   "outputs": [],
   "source": [
    "import sys\n",
    "sys.path.append(\"./src/\")\n",
    "import numpy as np\n",
    "import matplotlib.pyplot as plt\n",
    "from diag_rb import rb_open, rb_get_tri_filelist\n",
    "from diag_geom import geom_set\n",
    "\n",
    "### Read NetCDF data phi.*.nc by xarray ###\n",
    "NC_FROM=\"GKV\"\n",
    "if NC_FROM==\"diag\":\n",
    "    xr_phi = rb_open('../post/data/phi.*.nc')\n",
    "    xr_Al  = rb_open('../post/data/Al.*.nc')\n",
    "    xr_mom = rb_open('../post/data/mom.*.nc')\n",
    "    xr_fxv = rb_open('../post/data/fxv.*.nc')\n",
    "    xr_cnt = rb_open('../post/data/cnt.*.nc')\n",
    "    xr_trn = rb_open('../post/data/trn.*.nc')\n",
    "    tri_filelist = rb_get_tri_filelist('../post/data/tri.*.nc')\n",
    "elif NC_FROM==\"GKV\":\n",
    "    xr_phi = rb_open('../phi/gkvp.phi.*.nc')\n",
    "    xr_Al  = rb_open('../phi/gkvp.Al.*.nc')\n",
    "    xr_mom = rb_open('../phi/gkvp.mom.*.nc')\n",
    "    xr_fxv = rb_open('../fxv/gkvp.fxv.*.nc')\n",
    "    xr_cnt = rb_open('../cnt/gkvp.cnt.*.nc')\n",
    "    xr_trn = rb_open('../phi/gkvp.trn.*.nc')\n",
    "    tri_filelist = rb_get_tri_filelist('../phi/gkvp.tri.*.nc')\n",
    "xr_tri_list=[]\n",
    "for file in tri_filelist:\n",
    "    xr_tri=rb_open(file + '.*.nc')\n",
    "    xr_tri_list.append(xr_tri)\n",
    "# print(\"xr_phi:\", xr_phi)\n",
    "# print(\"tri_filelist:\", tri_filelist)\n",
    "\n",
    "### Set geometric constants ###\n",
    "geom_set(headpath='../src/gkvp_header.f90', nmlpath=\"../gkvp_namelist.001\", mtrpath='../hst/gkvp.mtr.001')"
   ]
  },
  {
   "cell_type": "code",
   "execution_count": null,
   "metadata": {},
   "outputs": [],
   "source": [
    "from out_mominxy import phiinxy, Alinxy, mominxy\n",
    "# Plot phi[y,x] at t[it], zz[iz]\n",
    "it = 3\n",
    "iz = 8\n",
    "phiinxy(it, iz, xr_phi, flag=\"display\")\n",
    "Alinxy(it, iz, xr_Al, flag=\"display\")\n",
    "it = 3\n",
    "iss = 0\n",
    "imom = 2\n",
    "iz = 8\n",
    "mominxy(it, iss, imom, iz, xr_mom, flag=\"display\")"
   ]
  },
  {
   "cell_type": "code",
   "execution_count": null,
   "metadata": {},
   "outputs": [],
   "source": [
    "from out_mominkxky import phiinkxky, Alinkxky, mominkxky\n",
    "# Plot 0.5*<|phi|^2>[ky,kx] at t[it]\n",
    "it = 3\n",
    "phiinkxky(it, xr_phi, flag=\"display\")\n",
    "Alinkxky(it, xr_Al, flag=\"display\")\n",
    "it = 3\n",
    "iss = 0\n",
    "imom = 2\n",
    "mominkxky(it, iss, imom, xr_mom, flag=\"display\")"
   ]
  },
  {
   "cell_type": "code",
   "execution_count": null,
   "metadata": {},
   "outputs": [],
   "source": [
    "from out_mominrz import phiinrz\n",
    "# Plot phi in cylindrical (R,Z) at t[it] and zeta\n",
    "it = len(xr_phi['t'])-1\n",
    "phiinrz(it, xr_phi, flag=\"display\")"
   ]
  },
  {
   "cell_type": "code",
   "execution_count": null,
   "metadata": {},
   "outputs": [],
   "source": [
    "from out_mominvtk import phiinvtk\n",
    "# Plot 3D phi in VTK file format\n",
    "it = len(xr_phi['t'])-1\n",
    "phiinvtk(it, xr_phi, flag=\"flux_tube\", n_alp=4)\n",
    "phiinvtk(it, xr_phi, flag=\"full_torus\", n_alp=4)\n",
    "phiinvtk(it, xr_phi, flag=\"field_aligned\", n_alp=4)"
   ]
  },
  {
   "cell_type": "code",
   "execution_count": null,
   "metadata": {},
   "outputs": [],
   "source": [
    "from out_mominxmf import phiinxmf\n",
    "# Plot 3D phi in XMF file format\n",
    "it = len(xr_phi['t'])-1\n",
    "phiinxmf(it, xr_phi, flag=\"flux_tube_coord\", n_alp=4)\n",
    "phiinxmf(it, xr_phi, flag=\"flux_tube_var\",   n_alp=4)\n",
    "phiinxmf(it, xr_phi, flag=\"full_torus_coord\", n_alp=4)\n",
    "phiinxmf(it, xr_phi, flag=\"full_torus_var\",   n_alp=4)"
   ]
  },
  {
   "cell_type": "code",
   "execution_count": null,
   "metadata": {},
   "outputs": [],
   "source": [
    "from out_mominz import phiinz, phiinz_connect\n",
    "# Plot phi along field line z at t[it], ky[my], kx[mx]\n",
    "it = len(xr_phi['t'])-1\n",
    "my = 1\n",
    "mx = int((len(xr_phi.kx)-1)/2)\n",
    "phiinz_connect(it, my, mx, xr_phi, xr_Al, normalize='phi0', flag='display')"
   ]
  },
  {
   "cell_type": "code",
   "execution_count": null,
   "metadata": {},
   "outputs": [],
   "source": [
    "from out_trninkxky import trninkxky\n",
    "# Plot trn[ky,kx] at t[it], s[iss].\n",
    "it = len(xr_trn['t'])-1\n",
    "iss = 0 # Index of species\n",
    "itrn = 10 # Index of outputs in trn.*.nc, see help(trninkxky)\n",
    "trninkxky(it, iss, itrn, xr_trn, flag='display')"
   ]
  },
  {
   "cell_type": "code",
   "execution_count": null,
   "metadata": {},
   "outputs": [],
   "source": [
    "from out_ffinvm import fluxinvm_fxv, fluxinvm_cnt\n",
    "# Plot flux_es[mu,vl] at at t[it], s[iss], zz[rankz] using fxv.*.nc or cnt.*.nc\n",
    "### fluxinv_cnt ###\n",
    "it = len(xr_fxv.t)-1\n",
    "iss = 0 # Index of species\n",
    "rankz = int(len(xr_fxv.zz) / 2)\n",
    "fluxinvm_fxv(it, iss, rankz, xr_phi, xr_fxv, flag=\"display\")\n",
    "    \n",
    "### fluxinvm_cnt ###\n",
    "it = len(xr_cnt.t)-1\n",
    "iss = 0 # Index of species\n",
    "iz = int(len(xr_cnt.zz) / 2)\n",
    "fluxinvm_cnt(it, iss, iz, xr_phi, xr_cnt, flag=\"display\")"
   ]
  },
  {
   "cell_type": "code",
   "execution_count": null,
   "metadata": {},
   "outputs": [],
   "source": [
    "# Examples of advanced use\n",
    "\n",
    "### (1) Time step loop ###\n",
    "nt=len(xr_phi['t'])\n",
    "skip=10\n",
    "for it in range(0,nt,skip):\n",
    "    phiinxy(it, iz, xr_phi, flag=\"savefig\")\n",
    "\n",
    "\n",
    "### (2) Find nearest index zz[iz]=zz_target ###\n",
    "zz_target = np.pi/3\n",
    "zz_nearest=float(xr_phi['zz'].sel(zz=zz_target,method=\"nearest\")) # Find nearest value\n",
    "iz=np.where(xr_phi['zz']==zz_nearest)[0][0] # Pick up index\n",
    "print(\"zz_target=\",zz_target)\n",
    "print(\"zz_nearest=\", zz_nearest)\n",
    "print(\"iz-1=\", iz-1, \", zz[iz-1]=\", float(xr_phi['zz'][iz-1]))\n",
    "print(\"iz  =\", iz  , \", zz[iz  ]=\", float(xr_phi['zz'][iz]))\n",
    "print(\"iz+1=\", iz+1, \", zz[iz+1]=\", float(xr_phi['zz'][iz+1]))\n",
    "\n",
    "\n",
    "### (3) Time average ###\n",
    "it_sta=10\n",
    "it_end=30\n",
    "ave=[]\n",
    "for it in range(it_sta,it_end+1):\n",
    "    ave.append(phiinkxky(it, xr_phi))\n",
    "ave=np.array(ave)          # All time steps are stacked on axis=0.\n",
    "ave=np.average(ave,axis=0) # Take average over time (axis=0, equidistant)\n",
    "fig=plt.figure()\n",
    "ax=fig.add_subplot(111)\n",
    "quad=ax.pcolormesh(ave[:,:,0], ave[:,:,1], ave[:,:,2],\n",
    "                   cmap='jet',shading=\"auto\")\n",
    "ax.set_title(\"Time average {0:f}<t<{1:f}\".format(float(xr_phi['t'][it_sta]),float(xr_phi['t'][it_end])))\n",
    "ax.set_xlabel(r\"Radial wavenumber $kx$\")\n",
    "ax.set_ylabel(r\"Poloidal wavenumber $ky$\")\n",
    "fig.colorbar(quad)\n",
    "plt.show()"
   ]
  },
  {
   "cell_type": "code",
   "execution_count": null,
   "metadata": {},
   "outputs": [],
   "source": [
    "from out_dmd import phidmd\n",
    "# DMD(Dynamic Mode Decomposition) analysis\n",
    "my = int((len(xr_phi.ky)-1)/2)\n",
    "mx = int((len(xr_phi.kx)-1)/2)\n",
    "phidmd(xr_phi, my=my, mx=mx, flag='display')"
   ]
  },
  {
   "cell_type": "code",
   "execution_count": null,
   "metadata": {},
   "outputs": [],
   "source": []
  },
  {
   "cell_type": "code",
   "execution_count": null,
   "metadata": {},
   "outputs": [],
   "source": []
  }
 ],
 "metadata": {
  "kernelspec": {
   "display_name": "Python 3",
   "language": "python",
   "name": "python3"
  },
  "language_info": {
   "codemirror_mode": {
    "name": "ipython",
    "version": 3
   },
   "file_extension": ".py",
   "mimetype": "text/x-python",
   "name": "python",
   "nbconvert_exporter": "python",
   "pygments_lexer": "ipython3",
   "version": "3.6.8"
  }
 },
 "nbformat": 4,
 "nbformat_minor": 4
}
