{
 "cells": [
  {
   "cell_type": "markdown",
   "metadata": {},
   "source": [
    "## Simple example of diag_python\n",
    "**In the below, lines from `import sys` to `geom_set` are initialization for data analysis.  \n",
    "Users import a function of which he would like to analyze (`phiinxy` in this example).**"
   ]
  },
  {
   "cell_type": "code",
   "execution_count": 1,
   "metadata": {},
   "outputs": [
    {
     "data": {
      "image/png": "[encoded data removed]",
      "text/plain": [
       "<Figure size 432x432 with 2 Axes>"
      ]
     },
     "metadata": {
      "needs_background": "light"
     },
     "output_type": "display_data"
    }
   ],
   "source": [
    "### Append diag_python packages to path ###\n",
    "import sys\n",
    "sys.path.append(\"./src/\")\n",
    "\n",
    "### Read NetCDF data *.nc by xarray ### \n",
    "from diag_rb import rb_open, rb_get_tri_filelist\n",
    "xr_phi = rb_open('../phi/gkvp.phi.*.nc')\n",
    "\n",
    "### Set geometric constants from GKV namelist etc. ###\n",
    "from diag_geom import geom_set\n",
    "geom_set(headpath='../src/gkvp_header.f90', \n",
    "         nmlpath=\"../gkvp_namelist.001\", \n",
    "         mtrpath='../hst/gkvp.mtr.001')\n",
    "\n",
    "# Plot phi[y,x] at t[it], zz[iz]\n",
    "from out_mominxy import phiinxy\n",
    "it = 250\n",
    "iz = 48\n",
    "phiinxy(it, iz, xr_phi, flag=\"display\")"
   ]
  },
  {
   "cell_type": "code",
   "execution_count": null,
   "metadata": {},
   "outputs": [],
   "source": []
  },
  {
   "cell_type": "markdown",
   "metadata": {},
   "source": [
    "### Tips: To analyze interactively\n",
    "**1. xr_phi is just a xarray data set. `print(xr_phi)` shows the coordinate information.**"
   ]
  },
  {
   "cell_type": "code",
   "execution_count": 2,
   "metadata": {},
   "outputs": [
    {
     "name": "stdout",
     "output_type": "stream",
     "text": [
      "<xarray.Dataset>\n",
      "Dimensions:  (kx: 1, ky: 13, t: 255, zz: 96)\n",
      "Coordinates:\n",
      "  * kx       (kx) float64 0.0\n",
      "  * ky       (ky) float64 0.0 0.05 0.1 0.15 0.2 0.25 ... 0.4 0.45 0.5 0.55 0.6\n",
      "  * zz       (zz) float64 -9.425 -9.228 -9.032 -8.836 ... 8.836 9.032 9.228\n",
      "  * t        (t) float64 0.0 0.1 0.2 0.3 0.4 0.5 ... 25.0 25.1 25.2 25.3 25.4\n",
      "Data variables:\n",
      "    rephi    (t, zz, ky, kx) float64 dask.array<chunksize=(255, 96, 13, 1), meta=np.ndarray>\n",
      "    imphi    (t, zz, ky, kx) float64 dask.array<chunksize=(255, 96, 13, 1), meta=np.ndarray>\n"
     ]
    }
   ],
   "source": [
    "print(xr_phi)"
   ]
  },
  {
   "cell_type": "markdown",
   "metadata": {},
   "source": [
    "**2. Please see the help of functions, which describes its feature, required inputs and outputs.**"
   ]
  },
  {
   "cell_type": "code",
   "execution_count": 3,
   "metadata": {},
   "outputs": [
    {
     "name": "stdout",
     "output_type": "stream",
     "text": [
      "Help on function phiinxy in module out_mominxy:\n",
      "\n",
      "phiinxy(it, iz, xr_phi, flag=None, nxw=None, nyw=None, outdir='./data/')\n",
      "    Output 2D electrostatic potential phi[y,x] at t[it], zz[iz].\n",
      "    \n",
      "    Parameters\n",
      "    ----------\n",
      "        it : int\n",
      "            index of t-axis\n",
      "        iz : int\n",
      "            index of zz-axis\n",
      "        xr_phi : xarray Dataset\n",
      "            xarray Dataset of phi.*.nc, read by diag_rb\n",
      "        flag : str\n",
      "            # flag==\"display\" - show figure on display\n",
      "            # flag==\"savefig\" - save figure as png\n",
      "            # flag==\"savetxt\" - save data as txt\n",
      "            # otherwise       - return data array\n",
      "        nxw : int, optional\n",
      "            (grid number in xx) = 2*nxw\n",
      "            # Default: nxw = nxw in gkvp_header.f90 \n",
      "        nyw : int, optional\n",
      "            (grid number in yy) = 2*nyw\n",
      "            # Default: nyw = nyw in gkvp_header.f90\n",
      "        outdir : str, optional\n",
      "            Output directory path\n",
      "            # Default: ./data/\n",
      "    \n",
      "    Returns\n",
      "    -------\n",
      "        data[2*nyw,2*nxw,3]: Numpy array, dtype=np.float64\n",
      "            # xx = data[:,:,0]\n",
      "            # yy = data[:,:,1]\n",
      "            # phixy = data[:,:,2]\n",
      "\n"
     ]
    }
   ],
   "source": [
    "help(phiinxy)"
   ]
  },
  {
   "cell_type": "markdown",
   "metadata": {},
   "source": [
    "**3. `flag=\"display\"` is convenient to see the result. On the other hand, choose `flag=None` to get data as a Numpy array and to draw figure as you like.**"
   ]
  },
  {
   "cell_type": "code",
   "execution_count": 4,
   "metadata": {},
   "outputs": [
    {
     "data": {
      "image/png": "[encoded data removed]",
      "text/plain": [
       "<Figure size 432x288 with 1 Axes>"
      ]
     },
     "metadata": {
      "needs_background": "light"
     },
     "output_type": "display_data"
    }
   ],
   "source": [
    "import numpy as np\n",
    "import matplotlib.pyplot as plt\n",
    "it = 250\n",
    "iz = 48\n",
    "data = phiinxy(it, iz, xr_phi, flag=None)\n",
    "xx = data[:,:,0]\n",
    "yy = data[:,:,1]\n",
    "phixy = data[:,:,2]\n",
    "plt.pcolormesh(xx,yy,phixy,shading=\"auto\")\n",
    "plt.xlim(-30,30)\n",
    "plt.ylim(-30,30)\n",
    "plt.show()"
   ]
  },
  {
   "cell_type": "markdown",
   "metadata": {},
   "source": [
    "**4. If you are familiar with Python, you can analyze everything by yourself. However, be careful that you also need to be familiar with the formulation of local \n",
    "flux-tube gyrokinetic simulation.**  \n",
    "For example, flux-surface-averaged electric field spectrum is not $\\int \\frac{k_\\perp^2}{2}|\\phi_{k_x,ky}(z)|^2 dz/(\\int dz)$, but $\\int \\sqrt{g} \\frac{k_\\perp^2}{2}|\\phi_{k_x,ky}(z)|^2 dz/(\\int \\sqrt{g} dz)$ including the Jacobian of the employed flux-tube coordinates.  \n",
    "The squared wavenumber is not $k_x^2 + k_y^2$, but $k_\\perp^2 = g^{xx} k_x^2 + 2g^{xy}k_xk_y + g^{yy}k_y^2$, including the metrics.\n",
    "\n",
    "See GKV manual for theoretical discription, and use `diag_geom` module to pick up geometrical quantities."
   ]
  },
  {
   "cell_type": "code",
   "execution_count": 5,
   "metadata": {},
   "outputs": [
    {
     "name": "stdout",
     "output_type": "stream",
     "text": [
      "<xarray.DataArray (zz: 96, ky: 13, kx: 1)>\n",
      "dask.array<add, shape=(96, 13, 1), dtype=complex128, chunksize=(96, 13, 1), chunktype=numpy.ndarray>\n",
      "Coordinates:\n",
      "  * kx       (kx) float64 0.0\n",
      "  * ky       (ky) float64 0.0 0.05 0.1 0.15 0.2 0.25 ... 0.4 0.45 0.5 0.55 0.6\n",
      "  * zz       (zz) float64 -9.425 -9.228 -9.032 -8.836 ... 8.836 9.032 9.228\n",
      "    t        float64 25.4\n"
     ]
    },
    {
     "data": {
      "image/png": "[encoded data removed]",
      "text/plain": [
       "<Figure size 432x288 with 1 Axes>"
      ]
     },
     "metadata": {
      "needs_background": "light"
     },
     "output_type": "display_data"
    }
   ],
   "source": [
    "from diag_geom import ksq\n",
    "from diag_intgrl import intgrl_thet\n",
    "\n",
    "zz=xr_phi.zz\n",
    "ky=xr_phi.ky\n",
    "kx=xr_phi.kx\n",
    "phi=xr_phi.rephi[-1,:,:,:] + 1j*xr_phi.imphi[-1,:,:,:]\n",
    "print(phi)\n",
    "\n",
    "wrong_ksq = kx**2+ky**2\n",
    "wrong_energy = np.sum(0.5*np.abs(phi)**2*wrong_ksq,axis=0)/len(zz)\n",
    "proper_energy = intgrl_thet(0.5*ksq*np.abs(phi)**2)\n",
    "plt.plot(ky,wrong_energy,\"x-\",label=\"Wrong energy\")\n",
    "plt.plot(ky,proper_energy,\"o-\",label=\"Proper energy\")\n",
    "plt.xlabel(\"$k_y$\")\n",
    "plt.ylabel(\"Energy spectrum $\\int \\sqrt{g} k_\\perp^2|\\phi_{k_x,ky}(z)|^2/2 dz/(\\int \\sqrt{g} dz)$\")\n",
    "plt.legend()\n",
    "plt.show()"
   ]
  },
  {
   "cell_type": "code",
   "execution_count": null,
   "metadata": {},
   "outputs": [],
   "source": []
  }
 ],
 "metadata": {
  "kernelspec": {
   "display_name": "Python 3",
   "language": "python",
   "name": "python3"
  },
  "language_info": {
   "codemirror_mode": {
    "name": "ipython",
    "version": 3
   },
   "file_extension": ".py",
   "mimetype": "text/x-python",
   "name": "python",
   "nbconvert_exporter": "python",
   "pygments_lexer": "ipython3",
   "version": "3.6.8"
  }
 },
 "nbformat": 4,
 "nbformat_minor": 4
}
