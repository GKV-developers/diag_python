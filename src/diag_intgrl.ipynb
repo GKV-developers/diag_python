{
 "cells": [
  {
   "cell_type": "code",
   "execution_count": null,
   "metadata": {},
   "outputs": [],
   "source": [
    "#!/usr/bin/env python\n",
    "\"\"\"\n",
    "Module for integrals on flux tube\n",
    "\n",
    "Module dependency: diag_geom.py\n",
    "\n",
    "Third-party libraries: numpy\n",
    "\"\"\"\n",
    "\n",
    "\n",
    "def intgrl_thet(w3):\n",
    "    \"\"\"\n",
    "    Calculate flux-surface average in zz\n",
    "    \n",
    "    Parameters\n",
    "    ----------\n",
    "        w3[zz,:,:] : Numpy array\n",
    "\n",
    "    Returns\n",
    "    -------\n",
    "        w2[]:,:] : Numpy array\n",
    "            w2 = <w3> = int w3 sqrt(g)*dz / (int sqrt(g)*dz)\n",
    "    \"\"\"\n",
    "    import numpy as np\n",
    "    \n",
    "#     # 実空間 Jacobian をメトリックデータから読み込む\n",
    "#     mtr = np.loadtxt('../../hst/gkvp.mtr.001', comments='#')\n",
    "#     rootg = mtr[:,12]\n",
    "#     cfsrf = np.sum(rootg)\n",
    "#     fct = rootg / cfsrf\n",
    "    from diag_geom import rootg\n",
    "    cfsrf = np.sum(rootg)\n",
    "    fct = rootg / cfsrf\n",
    "    \n",
    "    # zz方向平均を計算する\n",
    "    ww = w3 * fct.reshape(len(fct),1,1) # Numpy broadcast: fctはky,kxに依らない\n",
    "    w2 = np.sum(ww, axis=0) # データの軸順序が(zz,ky,kx)なので、axis=0について足し上げる\n",
    "    return w2\n",
    "\n",
    "\n",
    "\n",
    "\n",
    "if (__name__ == '__main__'):\n",
    "    import numpy as np\n",
    "    from diag_geom import geom_set\n",
    "    geom_set(headpath='../../src/gkvp_header.f90', nmlpath=\"../../gkvp_namelist.001\", mtrpath='../../hst/gkvp.mtr.001')\n",
    "    from diag_geom import kx, ky, zz\n",
    "    \n",
    "    wkx=kx.reshape(1,1,len(kx))\n",
    "    wky=ky.reshape(1,len(ky),1)\n",
    "    wzz=zz.reshape(len(zz),1,1)\n",
    "    temp=np.exp(-wzz**2/2)*np.exp(wkx**2+wky**2)\n",
    "    temp_ave_z=intgrl_thet(temp)\n",
    "    print(temp_ave_z)"
   ]
  },
  {
   "cell_type": "code",
   "execution_count": null,
   "metadata": {},
   "outputs": [],
   "source": []
  },
  {
   "cell_type": "code",
   "execution_count": null,
   "metadata": {},
   "outputs": [],
   "source": []
  }
 ],
 "metadata": {
  "kernelspec": {
   "display_name": "Python 3",
   "language": "python",
   "name": "python3"
  },
  "language_info": {
   "codemirror_mode": {
    "name": "ipython",
    "version": 3
   },
   "file_extension": ".py",
   "mimetype": "text/x-python",
   "name": "python",
   "nbconvert_exporter": "python",
   "pygments_lexer": "ipython3",
   "version": "3.7.7"
  }
 },
 "nbformat": 4,
 "nbformat_minor": 4
}
